{
 "cells": [
  {
   "cell_type": "code",
   "execution_count": 1,
   "metadata": {},
   "outputs": [],
   "source": [
    "#створити функцію, яка приймає два лісти і зрівнює їх поелементно. Результати зрівняння маюуть бути булеві. \n",
    "#Функція повертає результати порівняння лістом"
   ]
  },
  {
   "cell_type": "code",
   "execution_count": 29,
   "metadata": {},
   "outputs": [
    {
     "data": {
      "text/plain": [
       "(8, 10)"
      ]
     },
     "execution_count": 29,
     "metadata": {},
     "output_type": "execute_result"
    }
   ],
   "source": [
    "a = [1, 's', 22, 3, 3, 456, 'as', 22]\n",
    "b = [1, 2, 1, 's', 22, 8, 's',48,49,50]\n",
    "\n",
    "len(a), len(b)"
   ]
  },
  {
   "cell_type": "code",
   "execution_count": 8,
   "metadata": {},
   "outputs": [
    {
     "name": "stdout",
     "output_type": "stream",
     "text": [
      "Wall time: 0 ns\n"
     ]
    },
    {
     "data": {
      "text/plain": [
       "[True, False, False, False, False, False, False, False, False, False]"
      ]
     },
     "execution_count": 8,
     "metadata": {},
     "output_type": "execute_result"
    }
   ],
   "source": [
    "%%time\n",
    "def same_values(a,b):\n",
    "    '''function same_values what takes two different list (a, b) and returns the result of a bolean comparison\n",
    "param list_a: values inside the function, list data types: \"int\", \"str\"\n",
    "param list_b: values inside the function, list data types: \"int\", \"str\"\n",
    "return - list'''\n",
    "\n",
    "    ans =[]\n",
    "    for i in range(max(len(a),len(b))):\n",
    "        if i < (min(len(a),len(b))):\n",
    "            if a[i]==b[i]:\n",
    "                ans.append(True)\n",
    "            else:\n",
    "                ans.append(False)\n",
    "        else:\n",
    "            ans.append(False)\n",
    "    return ans\n",
    "\n",
    "same_values(a,b)   "
   ]
  },
  {
   "cell_type": "code",
   "execution_count": 15,
   "metadata": {},
   "outputs": [
    {
     "name": "stdout",
     "output_type": "stream",
     "text": [
      "Wall time: 465 ms\n"
     ]
    },
    {
     "data": {
      "text/plain": [
       "[True, False, False, False, False, False, False, False, False, False]"
      ]
     },
     "execution_count": 15,
     "metadata": {},
     "output_type": "execute_result"
    }
   ],
   "source": [
    "%%time\n",
    "import numpy as np\n",
    "def same_values_2(a,b):\n",
    "    '''  function same_values what takes two different list (a, b) [create 2 array whis same shape]\n",
    "    and returns the result of a bolean comparison\n",
    "   param list_a: values inside the function, list data types: \"int\", \"str\"\n",
    "   param list_b: values inside the function, list data types: int str\n",
    "   return: list'''\n",
    "    a_array = np.pad(np.array(a), (0, (max(len(a),len(b)))-len(a)), constant_values = np.nan)\n",
    "    b_array = np.pad(np.array(b), (0, (max(len(a),len(b)))-len(b)), constant_values = np.nan)\n",
    "    return list(a_array == b_array)\n",
    "\n",
    "same_values_2(a,b)"
   ]
  },
  {
   "cell_type": "code",
   "execution_count": 35,
   "metadata": {},
   "outputs": [
    {
     "name": "stdout",
     "output_type": "stream",
     "text": [
      "Wall time: 0 ns\n"
     ]
    },
    {
     "data": {
      "text/plain": [
       "[True, False, False, False, False, False, False, False, False, False]"
      ]
     },
     "execution_count": 35,
     "metadata": {},
     "output_type": "execute_result"
    }
   ],
   "source": [
    "%%time\n",
    "def same_values_3(a,b):    \n",
    "    '''  function same_values what takes two different list (a, b) \n",
    "    and returns the result of a bolean comparison\n",
    "   param list_a: values inside the function, list data types: \"int\", \"str\"\n",
    "   param list_b: values inside the function, list data types: int str\n",
    "   return: list'''\n",
    "    try:\n",
    "        ab = list(zip(a,b))\n",
    "        ans = [True if ab[i][0]==ab[i][1] else False for i in range(len(ab)) ]\n",
    "        raise (ValueError)\n",
    "    except :    \n",
    "            ans +=[False for i in range(max(len(a),len(b))-min(len(a),len(b)))]\n",
    "    finally:\n",
    "        return  ans\n",
    "    \n",
    "                \n",
    "same_values_3(a,b)"
   ]
  },
  {
   "cell_type": "code",
   "execution_count": null,
   "metadata": {},
   "outputs": [],
   "source": []
  },
  {
   "cell_type": "code",
   "execution_count": null,
   "metadata": {},
   "outputs": [],
   "source": []
  }
 ],
 "metadata": {
  "kernelspec": {
   "display_name": "Python 3",
   "language": "python",
   "name": "python3"
  },
  "language_info": {
   "codemirror_mode": {
    "name": "ipython",
    "version": 3
   },
   "file_extension": ".py",
   "mimetype": "text/x-python",
   "name": "python",
   "nbconvert_exporter": "python",
   "pygments_lexer": "ipython3",
   "version": "3.8.5"
  }
 },
 "nbformat": 4,
 "nbformat_minor": 4
}
