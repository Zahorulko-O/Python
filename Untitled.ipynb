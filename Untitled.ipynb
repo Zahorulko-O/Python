{
 "cells": [
  {
   "cell_type": "code",
   "execution_count": 1,
   "metadata": {},
   "outputs": [],
   "source": [
    "###Функція, що сприймає 2 листа і повертає один де є їх однакові значенняі"
   ]
  },
  {
   "cell_type": "markdown",
   "metadata": {},
   "source": [
    "#### %%time\n",
    "import re\n",
    "\n",
    "def f_both():\n",
    "    input1 = re.sub(r'[:;,\\s]',' ', str(input()).strip('.\\!\\?').lower()).split()\n",
    "    input2 = re.sub(r'[:;,\\s]',' ', str(input()).strip('.\\!\\?').lower()).split()\n",
    "    omissions = [i for i in input1  if i in input2]\n",
    "    return  omissions\n",
    "\n",
    "f_both()"
   ]
  },
  {
   "cell_type": "code",
   "execution_count": 10,
   "metadata": {
    "scrolled": true
   },
   "outputs": [
    {
     "name": "stdout",
     "output_type": "stream",
     "text": [
      "aa ASD df\n",
      "qaz wsx asd\n",
      "Wall time: 13 s\n"
     ]
    },
    {
     "data": {
      "text/plain": [
       "['asd']"
      ]
     },
     "execution_count": 10,
     "metadata": {},
     "output_type": "execute_result"
    }
   ],
   "source": [
    "%%time\n",
    "\n",
    "import difflib\n",
    "new_list = []\n",
    "def both():\n",
    "    input1 = re.sub(r'[:;,\\s]',' ', str(input()).strip('.\\!\\?').lower()).split()\n",
    "    input2 = re.sub(r'[:;,\\s]',' ', str(input()).strip('.\\!\\?').lower()).split()\n",
    "    for i in input2: \n",
    "    new_list.append(match)\n",
    "    return match\n",
    "both()"
   ]
  },
  {
   "cell_type": "code",
   "execution_count": 8,
   "metadata": {},
   "outputs": [],
   "source": [
    "text1 = \"\"\"Lorem ipsum dolor sit amet, consectetuer adipiscing elit. Integer\n",
    "eu lacus accumsan arcu fermentum euismod. Donec pulvinar porttitor\n",
    "tellus. Aliquam venenatis. Donec facilisis pharetra tortor.  In nec\n",
    "mauris eget magna consequat convallis. Nam sed sem vitae odio\n",
    "pellentesque interdum. Sed consequat viverra nisl. Suspendisse arcu\n",
    "metus, blandit quis, rhoncus ac, pharetra eget, velit. Mauris\n",
    "urna. Morbi nonummy molestie orci. Praesent nisi elit, fringilla ac,\n",
    "suscipit non, tristique vel, mauris. Curabitur vel lorem id nisl porta\n",
    "adipiscing. Suspendisse eu lectus. In nunc. Duis vulputate tristique\n",
    "enim. Donec quis lectus a justo imperdiet tempus.\"\"\"\n",
    "text1_lines = text1.splitlines()\n",
    "\n",
    "text2 = \"\"\"Lorem ipsum dolor sit amet, consectetuer adipiscing elit. Integer\n",
    "eu lacus accumsan arcu fermentum euismod. Donec pulvinar, porttitor\n",
    "tellus. Aliquam venenatis. Donec facilisis pharetra tortor. In nec\n",
    "mauris eget magna consequat convallis. Nam cras vitae mi vitae odio\n",
    "pellentesque interdum. Sed consequat viverra nisl. Suspendisse arcu\n",
    "metus, blandit quis, rhoncus ac, pharetra eget, velit. Mauris\n",
    "urna. Morbi nonummy molestie orci. Praesent nisi elit, fringilla ac,\n",
    "suscipit non, tristique vel, mauris. Curabitur vel lorem id nisl porta\n",
    "adipiscing. Duis vulputate tristique enim. Donec quis lectus a justo\n",
    "imperdiet tempus. Suspendisse eu lectus. In nunc. \"\"\"\n",
    "text2_lines = text2.splitlines()"
   ]
  },
  {
   "cell_type": "code",
   "execution_count": 13,
   "metadata": {},
   "outputs": [
    {
     "data": {
      "text/plain": [
       "['Lorem ipsum dolor sit amet, consectetuer adipiscing elit. Integer',\n",
       " 'eu lacus accumsan arcu fermentum euismod. Donec pulvinar, porttitor',\n",
       " 'tellus. Aliquam venenatis. Donec facilisis pharetra tortor. In nec',\n",
       " 'mauris eget magna consequat convallis. Nam cras vitae mi vitae odio',\n",
       " 'pellentesque interdum. Sed consequat viverra nisl. Suspendisse arcu',\n",
       " 'metus, blandit quis, rhoncus ac, pharetra eget, velit. Mauris',\n",
       " 'urna. Morbi nonummy molestie orci. Praesent nisi elit, fringilla ac,',\n",
       " 'suscipit non, tristique vel, mauris. Curabitur vel lorem id nisl porta',\n",
       " 'adipiscing. Duis vulputate tristique enim. Donec quis lectus a justo',\n",
       " 'imperdiet tempus. Suspendisse eu lectus. In nunc. ']"
      ]
     },
     "execution_count": 13,
     "metadata": {},
     "output_type": "execute_result"
    }
   ],
   "source": [
    "text2_lines"
   ]
  },
  {
   "cell_type": "code",
   "execution_count": 12,
   "metadata": {},
   "outputs": [
    {
     "name": "stdout",
     "output_type": "stream",
     "text": [
      "--- \n",
      "+++ \n",
      "@@ -1,10 +1,10 @@\n",
      " Lorem ipsum dolor sit amet, consectetuer adipiscing elit. Integer\n",
      "-eu lacus accumsan arcu fermentum euismod. Donec pulvinar porttitor\n",
      "-tellus. Aliquam venenatis. Donec facilisis pharetra tortor.  In nec\n",
      "-mauris eget magna consequat convallis. Nam sed sem vitae odio\n",
      "+eu lacus accumsan arcu fermentum euismod. Donec pulvinar, porttitor\n",
      "+tellus. Aliquam venenatis. Donec facilisis pharetra tortor. In nec\n",
      "+mauris eget magna consequat convallis. Nam cras vitae mi vitae odio\n",
      " pellentesque interdum. Sed consequat viverra nisl. Suspendisse arcu\n",
      " metus, blandit quis, rhoncus ac, pharetra eget, velit. Mauris\n",
      " urna. Morbi nonummy molestie orci. Praesent nisi elit, fringilla ac,\n",
      " suscipit non, tristique vel, mauris. Curabitur vel lorem id nisl porta\n",
      "-adipiscing. Suspendisse eu lectus. In nunc. Duis vulputate tristique\n",
      "-enim. Donec quis lectus a justo imperdiet tempus.\n",
      "+adipiscing. Duis vulputate tristique enim. Donec quis lectus a justo\n",
      "+imperdiet tempus. Suspendisse eu lectus. In nunc. \n"
     ]
    }
   ],
   "source": [
    "diff = difflib.unified_diff(text1_lines, text2_lines, lineterm='')\n",
    "print ('\\n'.join(list(diff)))"
   ]
  },
  {
   "cell_type": "code",
   "execution_count": 16,
   "metadata": {},
   "outputs": [
    {
     "ename": "NameError",
     "evalue": "name 'context_diff' is not defined",
     "output_type": "error",
     "traceback": [
      "\u001b[1;31m---------------------------------------------------------------------------\u001b[0m",
      "\u001b[1;31mNameError\u001b[0m                                 Traceback (most recent call last)",
      "\u001b[1;32m<ipython-input-16-e3db83ca679c>\u001b[0m in \u001b[0;36m<module>\u001b[1;34m\u001b[0m\n\u001b[1;32m----> 1\u001b[1;33m \u001b[0msys\u001b[0m\u001b[1;33m.\u001b[0m\u001b[0mstdout\u001b[0m\u001b[1;33m.\u001b[0m\u001b[0mwritelines\u001b[0m\u001b[1;33m(\u001b[0m\u001b[0mcontext_diff\u001b[0m\u001b[1;33m(\u001b[0m\u001b[0mtext1_lines\u001b[0m\u001b[1;33m,\u001b[0m \u001b[0mtext2_lines\u001b[0m\u001b[1;33m,\u001b[0m \u001b[0mfromfile\u001b[0m\u001b[1;33m=\u001b[0m\u001b[1;34m'before.py'\u001b[0m\u001b[1;33m,\u001b[0m \u001b[0mtofile\u001b[0m\u001b[1;33m=\u001b[0m\u001b[1;34m'after.py'\u001b[0m\u001b[1;33m)\u001b[0m\u001b[1;33m)\u001b[0m\u001b[1;33m\u001b[0m\u001b[1;33m\u001b[0m\u001b[0m\n\u001b[0m",
      "\u001b[1;31mNameError\u001b[0m: name 'context_diff' is not defined"
     ]
    }
   ],
   "source": [
    "sys.stdout.writelines(context_diff(text1_lines, text2_lines, fromfile='before.py', tofile='after.py'))"
   ]
  }
 ],
 "metadata": {
  "kernelspec": {
   "display_name": "Python 3",
   "language": "python",
   "name": "python3"
  },
  "language_info": {
   "codemirror_mode": {
    "name": "ipython",
    "version": 3
   },
   "file_extension": ".py",
   "mimetype": "text/x-python",
   "name": "python",
   "nbconvert_exporter": "python",
   "pygments_lexer": "ipython3",
   "version": "3.8.5"
  }
 },
 "nbformat": 4,
 "nbformat_minor": 4
}
