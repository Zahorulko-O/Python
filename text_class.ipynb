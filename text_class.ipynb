{
 "cells": [
  {
   "cell_type": "code",
   "execution_count": 1,
   "metadata": {},
   "outputs": [],
   "source": [
    "#Напиши клас TextPreprocessor у якого буде один метод який приймає текст як строку і повертає ліст токенів"
   ]
  },
  {
   "cell_type": "code",
   "execution_count": 2,
   "metadata": {},
   "outputs": [],
   "source": [
    "#https://www.programiz.com/python-programming/class\n",
    "#https://docs.python.org/3/tutorial/classes.html"
   ]
  },
  {
   "cell_type": "code",
   "execution_count": 8,
   "metadata": {},
   "outputs": [],
   "source": [
    "import re\n",
    "class ComplexNumber:\n",
    "    \"This class takes text as a string and returns a  list of tokens\"\n",
    "    \n",
    "    def __init__(self, r=0):\n",
    "        self.real = r\n",
    "\n",
    "    def get_list(self):\n",
    "        \"\"\"\"\n",
    "    1-cclean (перетворити в нижній регістр і видалити пунктуації та символи, а потім зняти strip) -\n",
    "     (re.sub(r'[^\\w\\s]', '', str(self.real).lower().strip()))\n",
    "    2-Токенізувати (перетворити з рядка в список) - split()\n",
    "    \"\"\"\"\"\n",
    "        return (list((re.sub(r'[^\\w\\s]', '', str(self.real).lower().strip())).split()))\n"
   ]
  },
  {
   "cell_type": "code",
   "execution_count": 9,
   "metadata": {},
   "outputs": [
    {
     "data": {
      "text/plain": [
       "['a', 'oj', 'j', 'kk', 'l']"
      ]
     },
     "execution_count": 9,
     "metadata": {},
     "output_type": "execute_result"
    }
   ],
   "source": [
    "a1  =ComplexNumber(\"a ';oj j kk l'\")\n",
    "a1.get_list()"
   ]
  },
  {
   "cell_type": "code",
   "execution_count": 10,
   "metadata": {},
   "outputs": [
    {
     "name": "stdout",
     "output_type": "stream",
     "text": [
      "This  class takes text as a string and returns a token list \n"
     ]
    }
   ],
   "source": [
    "print(ComplexNumber.__doc__)"
   ]
  }
 ],
 "metadata": {
  "kernelspec": {
   "display_name": "Python 3",
   "language": "python",
   "name": "python3"
  },
  "language_info": {
   "codemirror_mode": {
    "name": "ipython",
    "version": 3
   },
   "file_extension": ".py",
   "mimetype": "text/x-python",
   "name": "python",
   "nbconvert_exporter": "python",
   "pygments_lexer": "ipython3",
   "version": "3.8.5"
  }
 },
 "nbformat": 4,
 "nbformat_minor": 4
}
