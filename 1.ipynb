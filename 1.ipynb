{
 "cells": [
  {
   "cell_type": "code",
   "execution_count": 1,
   "metadata": {},
   "outputs": [],
   "source": [
    "###Функція, що сприймає 2 листа і повертає один де є їх однакові значення"
   ]
  },
  {
   "cell_type": "code",
   "execution_count": 31,
   "metadata": {},
   "outputs": [
    {
     "data": {
      "text/plain": [
       "[1, 's', 22]"
      ]
     },
     "execution_count": 31,
     "metadata": {},
     "output_type": "execute_result"
    }
   ],
   "source": [
    "a = [1, 's', 22, 3, 3, 456, 'as']\n",
    "b = [1, 2, 1, 's', 22, 8, 's',48]\n",
    "\n",
    "def f1(a,b):\n",
    "    c = [i for i in set(a) if i in set(b)]\n",
    "    return  c\n",
    "\n",
    "f1(a,b)"
   ]
  },
  {
   "cell_type": "code",
   "execution_count": 32,
   "metadata": {
    "scrolled": true
   },
   "outputs": [
    {
     "data": {
      "text/plain": [
       "[1, 's', 22]"
      ]
     },
     "execution_count": 32,
     "metadata": {},
     "output_type": "execute_result"
    }
   ],
   "source": [
    "def f2(a, b):\n",
    "    '''function f2 what takes two different list (a, b) and returns one with the same values for both in list\n",
    "   param list_a: values inside the function, list data types: \"int\", \"str\"\n",
    "   param list_b: values inside the function, list data types: \"int\", \"str\"\n",
    "   return: list'''\n",
    "    \n",
    "    return list(set.intersection(set(a),b)) # list(set(a) & set(b))\n",
    "\n",
    "f2(a, b)"
   ]
  }
 ],
 "metadata": {
  "kernelspec": {
   "display_name": "Python 3",
   "language": "python",
   "name": "python3"
  },
  "language_info": {
   "codemirror_mode": {
    "name": "ipython",
    "version": 3
   },
   "file_extension": ".py",
   "mimetype": "text/x-python",
   "name": "python",
   "nbconvert_exporter": "python",
   "pygments_lexer": "ipython3",
   "version": "3.8.5"
  }
 },
 "nbformat": 4,
 "nbformat_minor": 4
}
